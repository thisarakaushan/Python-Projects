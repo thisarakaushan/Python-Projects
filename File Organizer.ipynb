{
 "cells": [
  {
   "cell_type": "markdown",
   "id": "ea695c42",
   "metadata": {},
   "source": [
    "# File Organizer\n",
    "\n",
    "\n",
    "The project involves creating a file organization tool that allows users to easily categorize and manage their files based on either file type or modification date. The tool will automate the process of moving files from a source directory to a destination directory, creating subdirectories within the destination based on the chosen organization method."
   ]
  },
  {
   "cell_type": "code",
   "execution_count": 6,
   "id": "9851efee",
   "metadata": {},
   "outputs": [
    {
     "name": "stdout",
     "output_type": "stream",
     "text": [
      "Enter source directory: C:\\Users\\KIIT\\Desktop\\New folder\n",
      "Enter destination directory: C:\\Users\\KIIT\\Desktop\\New folder (2)\n",
      "Enter organization method (type or date): type\n",
      "Files organized by type.\n"
     ]
    }
   ],
   "source": [
    "import os\n",
    "import shutil\n",
    "import time\n",
    "\n",
    "def organize_files_by_type(source_dir, dest_dir):\n",
    "    # Get list of files in source directory\n",
    "    files = os.listdir(source_dir)\n",
    "\n",
    "    # Create destination directory if it doesn't exist\n",
    "    if not os.path.exists(dest_dir):\n",
    "        os.makedirs(dest_dir)\n",
    "\n",
    "    # Loop through files and move them to destination directory based on file type\n",
    "    for file in files:\n",
    "        file_path = os.path.join(source_dir, file)\n",
    "        if os.path.isfile(file_path):\n",
    "            file_type = file.split('.')[-1].lower()\n",
    "            dest_path = os.path.join(dest_dir, file_type)\n",
    "            if not os.path.exists(dest_path):\n",
    "                os.makedirs(dest_path)\n",
    "            shutil.move(file_path, os.path.join(dest_path, file))\n",
    "\n",
    "def organize_files_by_date(source_dir, dest_dir):\n",
    "    # Get list of files in source directory\n",
    "    files = os.listdir(source_dir)\n",
    "\n",
    "    # Create destination directory if it doesn't exist\n",
    "    if not os.path.exists(dest_dir):\n",
    "        os.makedirs(dest_dir)\n",
    "\n",
    "    # Loop through files and move them to destination directory based on modification date\n",
    "    for file in files:\n",
    "        file_path = os.path.join(source_dir, file)\n",
    "        if os.path.isfile(file_path):\n",
    "            timestamp = os.path.getmtime(file_path)\n",
    "            date = time.strftime('%Y-%m-%d', time.localtime(timestamp))\n",
    "            dest_path = os.path.join(dest_dir, date)\n",
    "            if not os.path.exists(dest_path):\n",
    "                os.makedirs(dest_path)\n",
    "            shutil.move(file_path, os.path.join(dest_path, file))\n",
    "\n",
    "# Prompt user for source and destination directories and organization method\n",
    "source_dir = input('Enter source directory: ')\n",
    "dest_dir = input('Enter destination directory: ')\n",
    "method = input('Enter organization method (type or date): ')\n",
    "\n",
    "if method == 'type':\n",
    "    organize_files_by_type(source_dir, dest_dir)\n",
    "    print('Files organized by type.')\n",
    "elif method == 'date':\n",
    "    organize_files_by_date(source_dir, dest_dir)\n",
    "    print('Files organized by date.')\n",
    "else:\n",
    "    print('Invalid organization method. Please enter \"type\" or \"date\".')"
   ]
  }
 ],
 "metadata": {
  "kernelspec": {
   "display_name": "Python 3 (ipykernel)",
   "language": "python",
   "name": "python3"
  },
  "language_info": {
   "codemirror_mode": {
    "name": "ipython",
    "version": 3
   },
   "file_extension": ".py",
   "mimetype": "text/x-python",
   "name": "python",
   "nbconvert_exporter": "python",
   "pygments_lexer": "ipython3",
   "version": "3.9.13"
  }
 },
 "nbformat": 4,
 "nbformat_minor": 5
}
