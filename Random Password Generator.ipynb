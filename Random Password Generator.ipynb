{
 "cells": [
  {
   "cell_type": "markdown",
   "id": "84fc8fd3",
   "metadata": {},
   "source": [
    "# Random Password Generator\n",
    "___\n",
    "\n",
    "Create a Python script that generates random passwords based on user specifications. The user can specify the length of the password and the desired complexity, including digits, letters, and special characters. The script will then generate a password that meets these criteria."
   ]
  },
  {
   "cell_type": "code",
   "execution_count": 8,
   "id": "e9cc18dc",
   "metadata": {},
   "outputs": [
    {
     "name": "stdout",
     "output_type": "stream",
     "text": [
      "Enter password length: 4\n",
      "Choose character set for password from these :\n",
      "         1. Digits\n",
      "         2. Letters\n",
      "         3. Special characters\n",
      "         4. Exit\n",
      "Pick a number 2\n",
      "Pick a number 1\n",
      "Pick a number 3\n",
      "Pick a number 4\n",
      "The random password is Ww2y\n"
     ]
    }
   ],
   "source": [
    "# Random password generator: Create a random password generator using Python. The generator\n",
    "# should generate a random password with a specified length and complexity.\n",
    "\n",
    "import string\n",
    "import random\n",
    " \n",
    "# Getting password length\n",
    "length = int(input(\"Enter password length: \"))\n",
    " \n",
    "print('''Choose character set for password from these :\n",
    "         1. Digits\n",
    "         2. Letters\n",
    "         3. Special characters\n",
    "         4. Exit''')\n",
    " \n",
    "characterList = \"\"\n",
    " \n",
    "# Getting character set for password\n",
    "while(True):\n",
    "    choice = int(input(\"Pick a number \"))\n",
    "    if(choice == 1):\n",
    "         \n",
    "        # Adding letters to possible characters\n",
    "        characterList += string.ascii_letters\n",
    "    elif(choice == 2):\n",
    "         \n",
    "        # Adding digits to possible characters\n",
    "        characterList += string.digits\n",
    "    elif(choice == 3):\n",
    "         \n",
    "        # Adding special characters to possible\n",
    "        # characters\n",
    "        characterList += string.punctuation\n",
    "    elif(choice == 4):\n",
    "        break\n",
    "    else:\n",
    "        print(\"Please pick a valid option!\")\n",
    " \n",
    "password = []\n",
    " \n",
    "for i in range(length):\n",
    "   \n",
    "    # Picking a random character from our\n",
    "    # character list\n",
    "    randomchar = random.choice(characterList)\n",
    "     \n",
    "    # appending a random character to password\n",
    "    password.append(randomchar)\n",
    " \n",
    "# printing password as a string\n",
    "print(\"The random password is \" + \"\".join(password))"
   ]
  },
  {
   "cell_type": "markdown",
   "id": "f37418df",
   "metadata": {},
   "source": [
    "# Random Generator"
   ]
  },
  {
   "cell_type": "code",
   "execution_count": null,
   "id": "bc609cb4",
   "metadata": {},
   "outputs": [],
   "source": [
    "# Random password generator: Create a random password generator using Python. The generator\n",
    "# should generate a random password with a specified length and complexity.\n",
    "\n",
    "import random\n",
    "import string\n",
    "\n",
    "def generate_password(length, complexity):\n",
    "    \"\"\"\n",
    "    Generate a random password with a specified length and complexity.\n",
    "    :param length: int - the length of the password\n",
    "    :param complexity: str - the complexity of the password (\"low\", \"medium\", or \"high\")\n",
    "    :return: str - the generated password\n",
    "    \"\"\"\n",
    "    # Define the character sets for each complexity level\n",
    "    low_complexity_chars = string.ascii_lowercase\n",
    "    medium_complexity_chars = string.ascii_letters + string.digits\n",
    "    high_complexity_chars = string.ascii_letters + string.digits + string.punctuation\n",
    "\n",
    "    # Choose the character set based on the specified complexity level\n",
    "    if complexity == \"low\":\n",
    "        chars = low_complexity_chars\n",
    "    elif complexity == \"medium\":\n",
    "        chars = medium_complexity_chars\n",
    "    elif complexity == \"high\":\n",
    "        chars = high_complexity_chars\n",
    "    else:\n",
    "        raise ValueError(\"Invalid complexity level\")\n",
    "\n",
    "    # Generate the password by choosing random characters from the character set\n",
    "    password = \"\".join(random.choice(chars) for _ in range(length))\n",
    "\n",
    "    return password\n",
    "\n",
    "password = generate_password(12, \"high\")\n",
    "print(password)  # Example output: \"K?6xS,e6=nhY\""
   ]
  }
 ],
 "metadata": {
  "kernelspec": {
   "display_name": "Python 3 (ipykernel)",
   "language": "python",
   "name": "python3"
  },
  "language_info": {
   "codemirror_mode": {
    "name": "ipython",
    "version": 3
   },
   "file_extension": ".py",
   "mimetype": "text/x-python",
   "name": "python",
   "nbconvert_exporter": "python",
   "pygments_lexer": "ipython3",
   "version": "3.9.13"
  }
 },
 "nbformat": 4,
 "nbformat_minor": 5
}
