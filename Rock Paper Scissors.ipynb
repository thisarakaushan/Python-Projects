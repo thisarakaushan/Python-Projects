{
 "cells": [
  {
   "cell_type": "markdown",
   "id": "d98ad7bf",
   "metadata": {},
   "source": [
    "# Rock Paper Scissors\n",
    "___\n",
    "\n",
    "Create a Python script that allows a user to play the classic Rock-Paper-Scissors game against the computer. The script will simulate the game and determine the winner based on the user's choice and the randomly generated choice of the computer."
   ]
  },
  {
   "cell_type": "code",
   "execution_count": 1,
   "id": "d0ca317f",
   "metadata": {},
   "outputs": [
    {
     "name": "stdout",
     "output_type": "stream",
     "text": [
      "Let's play Rock-Paper-Scissors!\n",
      "Choose your weapon (rock, paper, or scissors): rock\n",
      "\n",
      "You chose rock.\n",
      "The computer chose scissors.\n",
      "\n",
      "Rock smashes scissors. You win!\n"
     ]
    }
   ],
   "source": [
    "# Rock Paper Scissors: A script that allows the user to play the classic Rock-c\n",
    "# Paper-Scissors game against the computer.\n",
    "\n",
    "import random\n",
    "\n",
    "print(\"Let's play Rock-Paper-Scissors!\")\n",
    "\n",
    "options = [\"rock\", \"paper\", \"scissors\"]\n",
    "computer_choice = random.choice(options)\n",
    "\n",
    "user_choice = input(\"Choose your weapon (rock, paper, or scissors): \").lower()\n",
    "\n",
    "while user_choice not in options:\n",
    "    print(\"Invalid choice. Please try again.\")\n",
    "    user_choice = input(\"Choose your weapon (rock, paper, or scissors): \").lower()\n",
    "\n",
    "print(f\"\\nYou chose {user_choice}.\")\n",
    "print(f\"The computer choose {computer_choice}.\\n\")\n",
    "\n",
    "if user_choice == computer_choice:\n",
    "    print(\"It's a tie!\")\n",
    "elif user_choice == \"rock\":\n",
    "    if computer_choice == \"scissors\":\n",
    "        print(\"Rock smashes scissors. You win!\")\n",
    "    else:\n",
    "        print(\"Paper covers rock. You lose!\")\n",
    "elif user_choice == \"paper\":\n",
    "    if computer_choice == \"rock\":\n",
    "        print(\"Paper covers rock. You win!\")\n",
    "    else:\n",
    "        print(\"Scissors cut paper. You lose!\")\n",
    "elif user_choice == \"scissors\":\n",
    "    if computer_choice == \"paper\":\n",
    "        print(\"Scissors cut paper. You win!\")\n",
    "    else:\n",
    "        print(\"Rock smashes scissors. You lose!\")\n"
   ]
  },
  {
   "cell_type": "code",
   "execution_count": null,
   "id": "35104828",
   "metadata": {},
   "outputs": [],
   "source": []
  }
 ],
 "metadata": {
  "kernelspec": {
   "display_name": "Python 3 (ipykernel)",
   "language": "python",
   "name": "python3"
  },
  "language_info": {
   "codemirror_mode": {
    "name": "ipython",
    "version": 3
   },
   "file_extension": ".py",
   "mimetype": "text/x-python",
   "name": "python",
   "nbconvert_exporter": "python",
   "pygments_lexer": "ipython3",
   "version": "3.9.13"
  }
 },
 "nbformat": 4,
 "nbformat_minor": 5
}
