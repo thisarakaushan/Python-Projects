{
 "cells": [
  {
   "cell_type": "code",
   "execution_count": 3,
   "id": "b0a307c0",
   "metadata": {},
   "outputs": [],
   "source": [
    "import qrcode\n",
    "\n",
    "# Replace 'your_link_here' with the actual link you want to use\n",
    "data = \"https://www.youtube.com/\"\n",
    "\n",
    "# Create a QR code instance\n",
    "qr = qrcode.QRCode(\n",
    "    version=1,\n",
    "    error_correction=qrcode.constants.ERROR_CORRECT_L,\n",
    "    box_size=10,\n",
    "    border=4,\n",
    ")\n",
    "\n",
    "qr.add_data(data)\n",
    "qr.make(fit=True)\n",
    "\n",
    "img = qr.make_image(fill_color=\"black\", back_color=\"white\")\n",
    "\n",
    "# Save the QR code image to a file\n",
    "img.save(\"your_unique_qr_code.png\")\n"
   ]
  },
  {
   "cell_type": "code",
   "execution_count": 2,
   "id": "b1a99680",
   "metadata": {},
   "outputs": [
    {
     "name": "stdout",
     "output_type": "stream",
     "text": [
      "Note: you may need to restart the kernel to use updated packages.\n",
      "Collecting qrcode[pil]\n",
      "  Downloading qrcode-7.4.2-py3-none-any.whl (46 kB)\n",
      "     -------------------------------------- 46.2/46.2 kB 461.0 kB/s eta 0:00:00\n",
      "Requirement already satisfied: typing-extensions in c:\\users\\kiit\\anaconda3\\lib\\site-packages (from qrcode[pil]) (4.3.0)\n",
      "Collecting pypng (from qrcode[pil])\n",
      "  Downloading pypng-0.20220715.0-py3-none-any.whl (58 kB)\n",
      "     ---------------------------------------- 58.1/58.1 kB 1.5 MB/s eta 0:00:00\n",
      "Requirement already satisfied: colorama in c:\\users\\kiit\\anaconda3\\lib\\site-packages (from qrcode[pil]) (0.4.5)\n",
      "Requirement already satisfied: pillow>=9.1.0 in c:\\users\\kiit\\anaconda3\\lib\\site-packages (from qrcode[pil]) (9.2.0)\n",
      "Installing collected packages: pypng, qrcode\n",
      "Successfully installed pypng-0.20220715.0 qrcode-7.4.2\n"
     ]
    },
    {
     "name": "stderr",
     "output_type": "stream",
     "text": [
      "WARNING: Ignoring invalid distribution -pencv-python (c:\\users\\kiit\\anaconda3\\lib\\site-packages)\n",
      "WARNING: Ignoring invalid distribution -pencv-python (c:\\users\\kiit\\anaconda3\\lib\\site-packages)\n"
     ]
    }
   ],
   "source": [
    "pip install qrcode[pil]"
   ]
  },
  {
   "cell_type": "code",
   "execution_count": 5,
   "id": "7b02a411",
   "metadata": {},
   "outputs": [],
   "source": [
    "import qrcode\n",
    "from PIL import Image\n",
    "\n",
    "def generate_qr_code(link, filename, error_correction='L', box_size=10, border=4, fill_color=\"black\", back_color=\"white\"):\n",
    "    qr = qrcode.QRCode(\n",
    "        version=1,\n",
    "        error_correction=qrcode.constants.ERROR_CORRECT_L,\n",
    "        box_size=box_size,\n",
    "        border=border,\n",
    "    )\n",
    "    qr.add_data(link)\n",
    "    qr.make(fit=True)\n",
    "    qr_code = qr.make_image(fill_color=fill_color, back_color=back_color)\n",
    "    qr_code.save(filename)\n",
    "\n",
    "# Specify the link and filename for the QR code\n",
    "link = \"https://github.com/thisarakaushan\"\n",
    "filename = \"thisarakaushan_github.png\"\n",
    "\n",
    "# Generate the QR code with custom options\n",
    "generate_qr_code(link, filename)\n",
    "\n",
    "# Additional options:\n",
    "# generate_qr_code(link, filename, error_correction='H', box_size=12, border=2, fill_color=\"red\", back_color=\"yellow\")"
   ]
  },
  {
   "cell_type": "markdown",
   "id": "fa9c3ec7",
   "metadata": {},
   "source": [
    "<img src=\"thisarakaushan_github.png\" />"
   ]
  },
  {
   "cell_type": "code",
   "execution_count": null,
   "id": "813ecc4f",
   "metadata": {},
   "outputs": [],
   "source": []
  }
 ],
 "metadata": {
  "kernelspec": {
   "display_name": "Python 3 (ipykernel)",
   "language": "python",
   "name": "python3"
  },
  "language_info": {
   "codemirror_mode": {
    "name": "ipython",
    "version": 3
   },
   "file_extension": ".py",
   "mimetype": "text/x-python",
   "name": "python",
   "nbconvert_exporter": "python",
   "pygments_lexer": "ipython3",
   "version": "3.9.13"
  }
 },
 "nbformat": 4,
 "nbformat_minor": 5
}
