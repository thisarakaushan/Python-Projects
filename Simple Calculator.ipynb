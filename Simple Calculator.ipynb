{
 "cells": [
  {
   "cell_type": "markdown",
   "id": "afc5919c",
   "metadata": {},
   "source": [
    "# Simple Calculator\n",
    "____\n",
    "\n",
    "Build a simple calculator using Python that performs basic arithmetic operations such as addition, subtraction, multiplication, and division. The calculator will have a graphical user interface (GUI) with buttons to input numbers and operators, a display to show the entered expression, and a button to calculate the result."
   ]
  },
  {
   "cell_type": "code",
   "execution_count": 2,
   "id": "7ee74b52",
   "metadata": {},
   "outputs": [],
   "source": [
    "# Simple calculator: Build a simple calculator using Python. The calculator should be able to perform\n",
    "# basic arithmetic operations like addition, subtraction, multiplication, and division.\n",
    "\n",
    "import tkinter as tk\n",
    "\n",
    "class Calculator:\n",
    "    def __init__(self, master):\n",
    "        self.master = master\n",
    "        master.title(\"Simple Calculator\")\n",
    "\n",
    "        # Create a display for the calculator\n",
    "        self.display = tk.Entry(master, width=30, justify=\"right\")\n",
    "        self.display.grid(row=0, column=0, columnspan=4, padx=5, pady=5)\n",
    "\n",
    "        # Create buttons for the calculator\n",
    "        button_values = [\n",
    "            \"7\", \"8\", \"9\", \"/\", \n",
    "            \"4\", \"5\", \"6\", \"*\", \n",
    "            \"1\", \"2\", \"3\", \"-\", \n",
    "            \"0\", \".\", \"C\", \"+\"\n",
    "        ]\n",
    "        self.buttons = []\n",
    "        for i, value in enumerate(button_values):\n",
    "            row = i // 4 + 1\n",
    "            column = i % 4\n",
    "            button = tk.Button(master, text=value, width=5, command=lambda value=value: self.button_click(value))\n",
    "            button.grid(row=row, column=column, padx=5, pady=5)\n",
    "            self.buttons.append(button)\n",
    "\n",
    "        # Create a button to calculate the result\n",
    "        equals_button = tk.Button(master, text=\"=\", width=5, command=self.calculate_result)\n",
    "        equals_button.grid(row=5, column=3, padx=5, pady=5)\n",
    "\n",
    "    def button_click(self, value):\n",
    "        # Handle button clicks by adding the button's value to the display\n",
    "        current_display = self.display.get()\n",
    "        if value == \"C\":\n",
    "            self.display.delete(0, tk.END)\n",
    "        else:\n",
    "            self.display.delete(0, tk.END)\n",
    "            self.display.insert(0, current_display + value)\n",
    "\n",
    "    def calculate_result(self):\n",
    "        # Calculate the result of the expression in the display and display it\n",
    "        try:\n",
    "            result = eval(self.display.get())\n",
    "            self.display.delete(0, tk.END)\n",
    "            self.display.insert(0, str(result))\n",
    "        except:\n",
    "            self.display.delete(0, tk.END)\n",
    "            self.display.insert(0, \"Error\")\n",
    "\n",
    "# Create a GUI window and run the calculator\n",
    "root = tk.Tk()\n",
    "calculator = Calculator(root)\n",
    "root.mainloop()\n",
    "\n",
    "\n",
    "# To run the calculator GUI, you can save the code above in a file (e.g., calculator.py) and \n",
    "# run it using the command python calculator.py in your terminal. \n",
    "# This will open a window with a display and buttons for performing basic arithmetic operations. \n",
    "# Simply click on the buttons to enter numbers and operators, and click on the equals button to calculate the result."
   ]
  },
  {
   "cell_type": "code",
   "execution_count": null,
   "id": "51c3fb24",
   "metadata": {},
   "outputs": [],
   "source": []
  }
 ],
 "metadata": {
  "kernelspec": {
   "display_name": "Python 3 (ipykernel)",
   "language": "python",
   "name": "python3"
  },
  "language_info": {
   "codemirror_mode": {
    "name": "ipython",
    "version": 3
   },
   "file_extension": ".py",
   "mimetype": "text/x-python",
   "name": "python",
   "nbconvert_exporter": "python",
   "pygments_lexer": "ipython3",
   "version": "3.9.13"
  }
 },
 "nbformat": 4,
 "nbformat_minor": 5
}
