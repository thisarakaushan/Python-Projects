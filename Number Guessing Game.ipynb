{
 "cells": [
  {
   "cell_type": "markdown",
   "id": "c336f839",
   "metadata": {},
   "source": [
    "# Number Guessing Game\n",
    "___\n",
    "\n",
    "Build a Number Guessing Game using the Tkinter library in Python. The game will prompt the player to guess a random number within a specified range. After each guess, the game will provide feedback to the player, indicating whether the guess is too high or too low. The player's objective is to guess the correct number within the fewest attempts."
   ]
  },
  {
   "cell_type": "markdown",
   "id": "92669cd0",
   "metadata": {},
   "source": [
    "### Console based"
   ]
  },
  {
   "cell_type": "code",
   "execution_count": 1,
   "id": "55dfa73f",
   "metadata": {},
   "outputs": [
    {
     "name": "stdout",
     "output_type": "stream",
     "text": [
      "Guess a number between 1 and 100: 23\n",
      "Too low. Try again.\n",
      "Guess a number between 1 and 100: 77\n",
      "Too high. Try again.\n",
      "Guess a number between 1 and 100: 50\n",
      "Too high. Try again.\n",
      "Guess a number between 1 and 100: 40\n",
      "Too high. Try again.\n",
      "Guess a number between 1 and 100: 90\n",
      "Too high. Try again.\n",
      "Guess a number between 1 and 100: 99\n",
      "Too high. Try again.\n",
      "Guess a number between 1 and 100: 30\n",
      "Too low. Try again.\n",
      "Guess a number between 1 and 100: 35\n",
      "Too high. Try again.\n",
      "Guess a number between 1 and 100: 33\n",
      "Too high. Try again.\n",
      "Guess a number between 1 and 100: 32\n",
      "Too high. Try again.\n",
      "Guess a number between 1 and 100: 31\n",
      "Congratulations! You guessed the number in 11 tries.\n"
     ]
    }
   ],
   "source": [
    "# Number Guessing Game: A console-based game where the user has to guess\n",
    "# a randomly generated number within a specified range.\n",
    "\n",
    "import random\n",
    "\n",
    "def play_game():\n",
    "    # Generate a random number within the specified range\n",
    "    lower_bound = 1\n",
    "    upper_bound = 100\n",
    "    secret_number = random.randint(lower_bound, upper_bound)\n",
    "    \n",
    "    # Initialize the number of guesses and the guess variable\n",
    "    num_guesses = 0\n",
    "    guess = None\n",
    "    \n",
    "    # Loop until the user guesses the correct number\n",
    "    while guess != secret_number:\n",
    "        # Get the user's guess\n",
    "        try:\n",
    "            guess = int(input(f\"Guess a number between {lower_bound} and {upper_bound}: \"))\n",
    "        except ValueError:\n",
    "            print(\"Invalid input. Please enter a valid number.\")\n",
    "            continue\n",
    "        \n",
    "        # Check if the guess is too high or too low\n",
    "        if guess < secret_number:\n",
    "            print(\"Too low. Try again.\")\n",
    "        elif guess > secret_number:\n",
    "            print(\"Too high. Try again.\")\n",
    "        \n",
    "        # Increment the number of guesses\n",
    "        num_guesses += 1\n",
    "    \n",
    "    # Print the number of guesses and a congratulatory message\n",
    "    print(f\"Congratulations! You guessed the number in {num_guesses} tries.\")\n",
    "\n",
    "play_game()"
   ]
  },
  {
   "cell_type": "code",
   "execution_count": null,
   "id": "d085f151",
   "metadata": {},
   "outputs": [],
   "source": []
  },
  {
   "cell_type": "code",
   "execution_count": null,
   "id": "4e9bcf91",
   "metadata": {},
   "outputs": [],
   "source": []
  },
  {
   "cell_type": "markdown",
   "id": "f201314f",
   "metadata": {},
   "source": [
    "### GUI Based"
   ]
  },
  {
   "cell_type": "code",
   "execution_count": 2,
   "id": "ba6975a7",
   "metadata": {},
   "outputs": [],
   "source": [
    "import tkinter as tk\n",
    "import random\n",
    "\n",
    "window = tk.Tk()\n",
    "window.title(\"Number Guessing Game\")\n",
    "window.geometry(\"400x300\")\n",
    "\n",
    "# Create the labels and entry widget for the range:\n",
    "\n",
    "range_label = tk.Label(window, text=\"Enter the range (e.g. 1-10):\")\n",
    "range_label.pack()\n",
    "\n",
    "range_entry = tk.Entry(window)\n",
    "range_entry.pack()\n",
    "\n",
    "# Create the labels and entry widget for the guess:\n",
    "\n",
    "guess_label = tk.Label(window, text=\"Enter your guess:\")\n",
    "guess_label.pack()\n",
    "\n",
    "guess_entry = tk.Entry(window)\n",
    "guess_entry.pack()\n",
    "\n",
    "# Create the function to start the game:\n",
    "\n",
    "def start_game():\n",
    "    # Get the range from the entry widget\n",
    "    range_str = range_entry.get()\n",
    "    range_list = range_str.split(\"-\")\n",
    "    range_start = int(range_list[0])\n",
    "    range_end = int(range_list[1])\n",
    "    \n",
    "    # Generate a random number within the range\n",
    "    secret_number = random.randint(range_start, range_end)\n",
    "    \n",
    "    # Create the function to check the guess\n",
    "    def check_guess():\n",
    "        guess = int(guess_entry.get())\n",
    "        \n",
    "        if guess == secret_number:\n",
    "            result_label.config(text=\"Congratulations! You guessed the number!\")\n",
    "        elif guess < secret_number:\n",
    "            result_label.config(text=\"Your guess is too low. Try again.\")\n",
    "        else:\n",
    "            result_label.config(text=\"Your guess is too high. Try again.\")\n",
    "    \n",
    "    # Create the button to check the guess\n",
    "    guess_button = tk.Button(window, text=\"Guess\", command=check_guess)\n",
    "    guess_button.pack()\n",
    "    \n",
    "    # Create the label to display the result\n",
    "    result_label = tk.Label(window, text=\"\")\n",
    "    result_label.pack()\n",
    "\n",
    "# Create the button to start the game:\n",
    "\n",
    "start_button = tk.Button(window, text=\"Start Game\", command=start_game)\n",
    "start_button.pack()\n",
    "\n",
    "# Run the tkinter event loop:\n",
    "\n",
    "window.mainloop()"
   ]
  },
  {
   "cell_type": "code",
   "execution_count": null,
   "id": "f6e289cb",
   "metadata": {},
   "outputs": [],
   "source": []
  }
 ],
 "metadata": {
  "kernelspec": {
   "display_name": "Python 3 (ipykernel)",
   "language": "python",
   "name": "python3"
  },
  "language_info": {
   "codemirror_mode": {
    "name": "ipython",
    "version": 3
   },
   "file_extension": ".py",
   "mimetype": "text/x-python",
   "name": "python",
   "nbconvert_exporter": "python",
   "pygments_lexer": "ipython3",
   "version": "3.9.13"
  }
 },
 "nbformat": 4,
 "nbformat_minor": 5
}
