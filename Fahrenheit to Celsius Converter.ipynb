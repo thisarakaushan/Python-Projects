{
 "cells": [
  {
   "cell_type": "markdown",
   "id": "f7c5e4f4",
   "metadata": {},
   "source": [
    "# Fahrenheit to Celsius Converter\n",
    "___\n",
    "\n",
    "Create a temperature unit converter script that converts temperatures between Fahrenheit and Celsius using the appropriate conversion formulas. The script will allow users to input temperatures in one unit and obtain the converted temperature in the other unit."
   ]
  },
  {
   "cell_type": "code",
   "execution_count": 1,
   "id": "d76269ca",
   "metadata": {},
   "outputs": [
    {
     "name": "stdout",
     "output_type": "stream",
     "text": [
      "70.0 degrees Fahrenheit is equivalent to 21.1 degrees Celsius\n",
      "20.0 degrees Celsius is equivalent to 68.0 degrees Fahrenheit\n"
     ]
    }
   ],
   "source": [
    "# Fahrenheit to Celsius Converter: A script that converts Fahrenheit temperatures \n",
    "# to Celsius and vice versa, using the appropriate conversion formulas.\n",
    "\n",
    "def fahrenheit_to_celsius(fahrenheit):\n",
    "    \"\"\"\n",
    "    Convert a temperature in Fahrenheit to Celsius.\n",
    "    :param fahrenheit: float - the temperature in Fahrenheit\n",
    "    :return: float - the temperature in Celsius\n",
    "    \"\"\"\n",
    "    celsius = (fahrenheit - 32) * 5/9\n",
    "    return celsius\n",
    "\n",
    "def celsius_to_fahrenheit(celsius):\n",
    "    \"\"\"\n",
    "    Convert a temperature in Celsius to Fahrenheit.\n",
    "    :param celsius: float - the temperature in Celsius\n",
    "    :return: float - the temperature in Fahrenheit\n",
    "    \"\"\"\n",
    "    fahrenheit = celsius * 9/5 + 32\n",
    "    return fahrenheit\n",
    "\n",
    "# Example usage\n",
    "f_temp = 70.0\n",
    "c_temp = fahrenheit_to_celsius(f_temp)\n",
    "print(\"{:.1f} degrees Fahrenheit is equivalent to {:.1f} degrees Celsius\".format(f_temp, c_temp))\n",
    "\n",
    "c_temp = 20.0\n",
    "f_temp = celsius_to_fahrenheit(c_temp)\n",
    "print(\"{:.1f} degrees Celsius is equivalent to {:.1f} degrees Fahrenheit\".format(c_temp, f_temp))"
   ]
  },
  {
   "cell_type": "code",
   "execution_count": null,
   "id": "2766262f",
   "metadata": {},
   "outputs": [],
   "source": []
  }
 ],
 "metadata": {
  "kernelspec": {
   "display_name": "Python 3 (ipykernel)",
   "language": "python",
   "name": "python3"
  },
  "language_info": {
   "codemirror_mode": {
    "name": "ipython",
    "version": 3
   },
   "file_extension": ".py",
   "mimetype": "text/x-python",
   "name": "python",
   "nbconvert_exporter": "python",
   "pygments_lexer": "ipython3",
   "version": "3.9.13"
  }
 },
 "nbformat": 4,
 "nbformat_minor": 5
}
