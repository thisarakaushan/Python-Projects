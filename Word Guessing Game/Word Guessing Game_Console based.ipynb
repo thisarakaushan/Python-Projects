{
 "cells": [
  {
   "cell_type": "markdown",
   "id": "50a7e548",
   "metadata": {},
   "source": [
    "# Word Guessing Game\n",
    "____"
   ]
  },
  {
   "cell_type": "code",
   "execution_count": 2,
   "id": "57bd9445",
   "metadata": {},
   "outputs": [
    {
     "name": "stdout",
     "output_type": "stream",
     "text": [
      "Guess the word!\n",
      "The word has 5 letters.\n",
      "_ _ _ _ _\n",
      "Enter a letter or the whole word: a\n",
      "Sorry, that letter is not in the word. You have 5 guesses left.\n",
      "Enter a letter or the whole word: p\n",
      "Sorry, that letter is not in the word. You have 4 guesses left.\n",
      "Enter a letter or the whole word: e\n",
      "You guessed a letter!\n",
      "_ e _ _ _\n",
      "Enter a letter or the whole word: lemon\n",
      "Congratulations! You guessed the word!\n"
     ]
    }
   ],
   "source": [
    "\"\"\" Word Guessing Game: A script that prompts the user to guess a hidden word,\n",
    "giving hints like the length and some of the letters.\"\"\"\n",
    "\n",
    "import random\n",
    "\n",
    "words = ['apple', 'banana', 'orange', 'grape', 'pear', 'lemon']\n",
    "word = random.choice(words)\n",
    "\n",
    "# Create a list of underscores to represent the hidden word\n",
    "hidden_word = ['_'] * len(word) \n",
    "\n",
    "print('Guess the word!')\n",
    "print('The word has', len(word), 'letters.')\n",
    "print(' '.join(hidden_word))\n",
    "\n",
    "guesses = 6 \n",
    "while guesses > 0:\n",
    "    guess = input('Enter a letter or the whole word: ').lower()\n",
    "\n",
    "    if guess == word:\n",
    "        print('Congratulations! You guessed the word!')\n",
    "        break\n",
    "\n",
    "    elif guess in word:\n",
    "        print('You guessed a letter!')\n",
    "        for i in range(len(word)):\n",
    "            if word[i] == guess:\n",
    "                hidden_word[i] = guess\n",
    "        print(' '.join(hidden_word))\n",
    "\n",
    "    else:\n",
    "        guesses -= 1\n",
    "        print('Sorry, that letter is not in the word. You have', guesses, 'guesses left.')\n",
    "else:\n",
    "    print('Sorry, you ran out of guesses. The word was', word)\n",
    "    "
   ]
  },
  {
   "cell_type": "code",
   "execution_count": null,
   "id": "c296d1fe",
   "metadata": {},
   "outputs": [],
   "source": []
  }
 ],
 "metadata": {
  "kernelspec": {
   "display_name": "Python 3 (ipykernel)",
   "language": "python",
   "name": "python3"
  },
  "language_info": {
   "codemirror_mode": {
    "name": "ipython",
    "version": 3
   },
   "file_extension": ".py",
   "mimetype": "text/x-python",
   "name": "python",
   "nbconvert_exporter": "python",
   "pygments_lexer": "ipython3",
   "version": "3.9.13"
  }
 },
 "nbformat": 4,
 "nbformat_minor": 5
}
