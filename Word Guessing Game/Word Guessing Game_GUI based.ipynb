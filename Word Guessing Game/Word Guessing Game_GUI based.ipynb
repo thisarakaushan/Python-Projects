{
 "cells": [
  {
   "cell_type": "markdown",
   "id": "f84a2ae7",
   "metadata": {},
   "source": [
    "# Word Guessing Game\n",
    "\n",
    "Create a fun and interactive word guessing game with a graphical user interface (GUI). Players are prompted to guess a hidden word, and they receive hints about the length of the word and some of its letters."
   ]
  },
  {
   "cell_type": "code",
   "execution_count": 1,
   "id": "471a5341",
   "metadata": {},
   "outputs": [],
   "source": [
    "\"\"\" Word Guessing Game GUI based: A script that prompts the user to guess a hidden word,\n",
    "giving hints like the length and some of the letters.\"\"\"\n",
    "\n",
    "import random\n",
    "import tkinter as tk\n",
    "\n",
    "WORDS = ['apple', 'banana', 'orange', 'grape', 'pear', 'lemon']\n",
    "\n",
    "secret_word = random.choice(WORDS)\n",
    "word_length = len(secret_word)\n",
    "hint = f\"The word has {word_length} letters and starts with {secret_word[0]}\"\n",
    "\n",
    "num_attempts = 5\n",
    "\n",
    "# Set up the GUI\n",
    "root = tk.Tk() \n",
    "root.title(\"Word Guessing Game\")\n",
    "\n",
    "root.geometry(\"500x300\")\n",
    "\n",
    "guess_label = tk.Label(root, text=\"Guess the word:\")\n",
    "guess_entry = tk.Entry(root, width=30)\n",
    "submit_button = tk.Button(root, text=\"Submit\")\n",
    "hint_label = tk.Label(root, text=hint)\n",
    "attempts_label = tk.Label(root, text=f\"You have {num_attempts} attempts remaining\")\n",
    "\n",
    "guess_label.grid(row=0, column=0, padx=10, pady=10)\n",
    "guess_entry.grid(row=0, column=1, padx=10, pady=10)\n",
    "submit_button.grid(row=1, column=0, columnspan=2, padx=10, pady=10)\n",
    "hint_label.grid(row=2, column=0, columnspan=2, padx=10, pady=10)\n",
    "attempts_label.grid(row=3, column=0, columnspan=2, padx=10, pady=10)\n",
    "\n",
    "def check_guess():\n",
    "    global num_attempts\n",
    "    global hint\n",
    "    \n",
    "    guess = guess_entry.get().lower()\n",
    "    num_attempts -= 1\n",
    "    \n",
    "    if guess == secret_word:\n",
    "        hint_label.config(text=\"Congratulations! You guessed the word!\")\n",
    "        submit_button.config(state=\"disabled\")\n",
    "    else:\n",
    "        if num_attempts == 0:\n",
    "            hint_label.config(text=f\"Game over. You're out of attempts. The word was '{secret_word}'.\")\n",
    "            submit_button.config(state=\"disabled\")\n",
    "        else:\n",
    "            new_hint = \"\"\n",
    "            for i in range(word_length):\n",
    "                if secret_word[i] == guess[i]:\n",
    "                    new_hint += secret_word[i]\n",
    "                else:\n",
    "                    new_hint += \"-\"\n",
    "            hint = f\"The word has {word_length} letters and starts with {secret_word[0]}. Hint: {new_hint}\"\n",
    "            hint_label.config(text=hint)\n",
    "            guess_entry.delete(0, tk.END)\n",
    "            attempts_label.config(text=f\"You have {num_attempts} attempts remaining\")\n",
    "\n",
    "            \n",
    "# Attach event handlers to button click\n",
    "submit_button.config(command=check_guess)  \n",
    "\n",
    "root.mainloop()\n"
   ]
  }
 ],
 "metadata": {
  "kernelspec": {
   "display_name": "Python 3 (ipykernel)",
   "language": "python",
   "name": "python3"
  },
  "language_info": {
   "codemirror_mode": {
    "name": "ipython",
    "version": 3
   },
   "file_extension": ".py",
   "mimetype": "text/x-python",
   "name": "python",
   "nbconvert_exporter": "python",
   "pygments_lexer": "ipython3",
   "version": "3.9.13"
  }
 },
 "nbformat": 4,
 "nbformat_minor": 5
}
