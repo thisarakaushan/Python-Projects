{
 "cells": [
  {
   "cell_type": "markdown",
   "id": "0652ef66",
   "metadata": {},
   "source": [
    "# Word Count Tool\n",
    "___\n",
    "\n",
    "Develop a Text Analysis Tool using Python that provides various statistics about a given text. The tool will analyze the text to count the number of words, sentences, and characters. It's a simple but useful project that can help you understand text processing and analysis."
   ]
  },
  {
   "cell_type": "code",
   "execution_count": 9,
   "id": "2e1b7db7",
   "metadata": {},
   "outputs": [
    {
     "name": "stdout",
     "output_type": "stream",
     "text": [
      "Word count: 13\n",
      "Sentence count: 2\n",
      "Character count: 75\n"
     ]
    }
   ],
   "source": [
    "text = \"This is a random sentence. It has multiple sentences, and even some commas!\"\n",
    "\n",
    "def count_words(text):\n",
    "    \"\"\"\n",
    "    Count the number of words in the text.\n",
    "    \"\"\"\n",
    "    words = text.split()\n",
    "    return len(words)\n",
    "\n",
    "\n",
    "def count_sentences(text):\n",
    "    \"\"\"\n",
    "    Count the number of sentences in the text.\n",
    "    \"\"\"\n",
    "    sentences = text.split(\".\")\n",
    "    sentences = [s for s in sentences if s != \"\"]\n",
    "    return len(sentences)\n",
    "\n",
    "\n",
    "def count_characters(text):\n",
    "    \"\"\"\n",
    "    Count the number of characters in the text.\n",
    "    \"\"\"\n",
    "    return len(text)\n",
    "\n",
    "\n",
    "if __name__ == '__main__':\n",
    "    print(f\"Word count: {count_words(text)}\")\n",
    "    print(f\"Sentence count: {count_sentences(text)}\")\n",
    "    print(f\"Character count: {count_characters(text)}\")\n"
   ]
  },
  {
   "cell_type": "code",
   "execution_count": null,
   "id": "435a5e3d",
   "metadata": {},
   "outputs": [],
   "source": []
  },
  {
   "cell_type": "code",
   "execution_count": null,
   "id": "bba2c8f1",
   "metadata": {},
   "outputs": [],
   "source": []
  },
  {
   "cell_type": "code",
   "execution_count": 12,
   "id": "de372b88",
   "metadata": {},
   "outputs": [
    {
     "name": "stdout",
     "output_type": "stream",
     "text": [
      "Word count: 16\n",
      "Sentence count: 2\n",
      "Character count: 71\n"
     ]
    }
   ],
   "source": [
    "import string\n",
    "\n",
    "def count_words(text):\n",
    "    \"\"\"\n",
    "    Count the number of words in the given text.\n",
    "    \"\"\"\n",
    "    words = text.split()\n",
    "    return len(words)\n",
    "\n",
    "def count_sentences(text):\n",
    "    \"\"\"\n",
    "    Count the number of sentences in the given text.\n",
    "    \"\"\"\n",
    "    sentences = text.split('.')\n",
    "    return len(sentences)\n",
    "\n",
    "def count_characters(text):\n",
    "    \"\"\"\n",
    "    Count the number of characters in the given text.\n",
    "    \"\"\"\n",
    "    # Remove all whitespace characters from the text\n",
    "    text = ''.join(text.split())\n",
    "\n",
    "    # Remove all punctuation characters from the text\n",
    "    text = text.translate(str.maketrans('', '', string.punctuation))\n",
    "\n",
    "    return len(text)\n",
    "\n",
    "def main():\n",
    "    # Load the text from a file\n",
    "    with open(\"sample.txt\", \"r\") as f:\n",
    "        text = f.read()\n",
    "\n",
    "    # Count the words, sentences, and characters in the text\n",
    "    num_words = count_words(text)\n",
    "    num_sentences = count_sentences(text)\n",
    "    num_characters = count_characters(text)\n",
    "\n",
    "    # Print the results\n",
    "    print(\"Word count:\", num_words)\n",
    "    print(\"Sentence count:\", num_sentences)\n",
    "    print(\"Character count:\", num_characters)\n",
    "\n",
    "if __name__ == \"__main__\":\n",
    "    main()"
   ]
  },
  {
   "cell_type": "code",
   "execution_count": null,
   "id": "eccefef7",
   "metadata": {},
   "outputs": [],
   "source": []
  }
 ],
 "metadata": {
  "kernelspec": {
   "display_name": "Python 3 (ipykernel)",
   "language": "python",
   "name": "python3"
  },
  "language_info": {
   "codemirror_mode": {
    "name": "ipython",
    "version": 3
   },
   "file_extension": ".py",
   "mimetype": "text/x-python",
   "name": "python",
   "nbconvert_exporter": "python",
   "pygments_lexer": "ipython3",
   "version": "3.9.13"
  }
 },
 "nbformat": 4,
 "nbformat_minor": 5
}
