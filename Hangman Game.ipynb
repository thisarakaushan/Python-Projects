{
 "cells": [
  {
   "cell_type": "markdown",
   "id": "33fa45d3",
   "metadata": {},
   "source": [
    "# Hangman Game\n",
    "___\n",
    "\n",
    "Develop a text-based Hangman game where players try to guess a random word by suggesting letters. The player has a limited number of attempts to guess the letters in the word. The game provides a fun and interactive way to challenge players' word-guessing skills."
   ]
  },
  {
   "cell_type": "code",
   "execution_count": null,
   "id": "5eaf01a7",
   "metadata": {},
   "outputs": [
    {
     "name": "stdout",
     "output_type": "stream",
     "text": [
      "You have 6 lives left and you have used these letters: \n",
      "Current word:  - - - -\n"
     ]
    }
   ],
   "source": [
    "import random\n",
    "\n",
    "def get_word():\n",
    "    \"\"\"\n",
    "    Return a random word from a pre-defined list.\n",
    "    \"\"\"\n",
    "    words = ['apple', 'banana', 'cherry', 'orange', 'pear', 'kiwi', 'pineapple', 'grape']\n",
    "    return random.choice(words)\n",
    "\n",
    "\n",
    "def play_game():\n",
    "    \"\"\"\n",
    "    Play a game of Hangman.\n",
    "    \"\"\"\n",
    "    word = get_word()\n",
    "    word_letters = set(word)\n",
    "    alphabet = set('abcdefghijklmnopqrstuvwxyz')\n",
    "    used_letters = set()\n",
    "    lives = 6\n",
    "    \n",
    "    # Loop until the player wins or runs out of lives\n",
    "    while len(word_letters) > 0 and lives > 0:\n",
    "        # Print the current state of the game\n",
    "        print(f'You have {lives} lives left and you have used these letters: {\" \".join(used_letters)}')\n",
    "        word_list = [letter if letter in used_letters else '-' for letter in word]\n",
    "        print('Current word: ', ' '.join(word_list))\n",
    "        \n",
    "        # Get the player's guess\n",
    "        guess = input('Guess a letter: ').lower()\n",
    "        \n",
    "        # Check if the guess is valid\n",
    "        if guess in alphabet - used_letters:\n",
    "            used_letters.add(guess)\n",
    "            if guess in word_letters:\n",
    "                word_letters.remove(guess)\n",
    "            else:\n",
    "                lives -= 1\n",
    "        \n",
    "        # If the guess is not valid, print an error message\n",
    "        elif guess in used_letters:\n",
    "            print('You have already used that letter. Please try again.')\n",
    "        else:\n",
    "            print('Invalid character. Please try again.')\n",
    "    \n",
    "    # Print the final state of the game\n",
    "    if lives == 0:\n",
    "        print(f'You died! The word was {word}')\n",
    "    else:\n",
    "        print(f'Congratulations! You guessed the word {word}.')\n",
    "\n",
    "\n",
    "if __name__ == '__main__':\n",
    "    play_game()\n"
   ]
  },
  {
   "cell_type": "code",
   "execution_count": null,
   "id": "18954bf1",
   "metadata": {},
   "outputs": [],
   "source": []
  }
 ],
 "metadata": {
  "kernelspec": {
   "display_name": "Python 3 (ipykernel)",
   "language": "python",
   "name": "python3"
  },
  "language_info": {
   "codemirror_mode": {
    "name": "ipython",
    "version": 3
   },
   "file_extension": ".py",
   "mimetype": "text/x-python",
   "name": "python",
   "nbconvert_exporter": "python",
   "pygments_lexer": "ipython3",
   "version": "3.9.13"
  }
 },
 "nbformat": 4,
 "nbformat_minor": 5
}
