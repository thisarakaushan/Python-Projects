{
 "cells": [
  {
   "cell_type": "markdown",
   "id": "5f8c0ffc",
   "metadata": {},
   "source": [
    "# Coin Flip Simulator\n",
    "___\n",
    "Develop a coin flip simulator with a graphical user interface (GUI) that allows users to specify the number of times they want to flip a coin. The simulator will simulate the coin flips, count the number of heads and tails, and display the results to the user."
   ]
  },
  {
   "cell_type": "markdown",
   "id": "cab0aad8",
   "metadata": {},
   "source": [
    "### Console Based"
   ]
  },
  {
   "cell_type": "code",
   "execution_count": 1,
   "id": "b3d40d72",
   "metadata": {},
   "outputs": [
    {
     "name": "stdout",
     "output_type": "stream",
     "text": [
      "Number of heads: 48\n",
      "Number of tails: 52\n"
     ]
    }
   ],
   "source": [
    "# Coin Flip Simulator: A script that simulates flipping a coin a specified number\n",
    "# of times and counts the number of heads and tails. \n",
    "\n",
    "import random\n",
    "\n",
    "def flip_coins(num_flips):\n",
    "    # Initialize the counts for heads and tails\n",
    "    num_heads = 0\n",
    "    num_tails = 0\n",
    "    \n",
    "    # Loop for the specified number of flips\n",
    "    for i in range(num_flips):\n",
    "        # Flip the coin\n",
    "        result = random.randint(0, 1)\n",
    "        \n",
    "        # Increment the count for heads or tails\n",
    "        if result == 0:\n",
    "            num_heads += 1\n",
    "        else:\n",
    "            num_tails += 1\n",
    "    \n",
    "    # Print the results\n",
    "    print(f\"Number of heads: {num_heads}\")\n",
    "    print(f\"Number of tails: {num_tails}\")\n",
    "\n",
    "num_flips = 100\n",
    "flip_coins(num_flips)"
   ]
  },
  {
   "cell_type": "markdown",
   "id": "7ecf8a31",
   "metadata": {},
   "source": [
    "### GUI Based"
   ]
  },
  {
   "cell_type": "code",
   "execution_count": 4,
   "id": "7eb9180f",
   "metadata": {},
   "outputs": [],
   "source": [
    "import tkinter as tk\n",
    "import random\n",
    "\n",
    "window = tk.Tk()\n",
    "window.title(\"Coin Flip Simulator\")\n",
    "window.geometry(\"400x300\")\n",
    "\n",
    "#Create the labels and entry widget for the number of flips:\n",
    "\n",
    "num_flips_label = tk.Label(window, text=\"Number of flips:\")\n",
    "num_flips_label.pack()\n",
    "\n",
    "num_flips_entry = tk.Entry(window)\n",
    "num_flips_entry.pack()\n",
    "\n",
    "#Create the function to flip the coin and count the number of heads and tails:\n",
    "\n",
    "def flip_coin():\n",
    "    num_flips = int(num_flips_entry.get())\n",
    "    \n",
    "    heads_count = 0\n",
    "    tails_count = 0\n",
    "    \n",
    "    for i in range(num_flips):\n",
    "        result = random.choice([\"Heads\", \"Tails\"])\n",
    "        \n",
    "        if result == \"Heads\":\n",
    "            heads_count += 1\n",
    "        else:\n",
    "            tails_count += 1\n",
    "    \n",
    "    heads_label.config(text=f\"Heads: {heads_count}\")\n",
    "    tails_label.config(text=f\"Tails: {tails_count}\")\n",
    "\n",
    "# Create the button to flip the coin:\n",
    "\n",
    "flip_button = tk.Button(window, text=\"Flip Coin\", command=flip_coin)\n",
    "flip_button.pack()\n",
    "\n",
    "# Create the labels to display the number of heads and tails:\n",
    "\n",
    "heads_label = tk.Label(window, text=\"Heads:\")\n",
    "heads_label.pack()\n",
    "\n",
    "tails_label = tk.Label(window, text=\"Tails:\")\n",
    "tails_label.pack()\n",
    "\n",
    "window.mainloop()"
   ]
  },
  {
   "cell_type": "code",
   "execution_count": null,
   "id": "521dcdab",
   "metadata": {},
   "outputs": [],
   "source": []
  }
 ],
 "metadata": {
  "kernelspec": {
   "display_name": "Python 3 (ipykernel)",
   "language": "python",
   "name": "python3"
  },
  "language_info": {
   "codemirror_mode": {
    "name": "ipython",
    "version": 3
   },
   "file_extension": ".py",
   "mimetype": "text/x-python",
   "name": "python",
   "nbconvert_exporter": "python",
   "pygments_lexer": "ipython3",
   "version": "3.9.13"
  }
 },
 "nbformat": 4,
 "nbformat_minor": 5
}
