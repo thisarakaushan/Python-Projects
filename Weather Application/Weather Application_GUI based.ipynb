{
 "cells": [
  {
   "cell_type": "markdown",
   "id": "d890515c",
   "metadata": {},
   "source": [
    "# Weather Application GUI-based\n",
    "___\n",
    "Develop a weather information app that allows users to input a city name and retrieve the current weather conditions for that city. The app fetches weather data from an API and displays details such as temperature, humidity, wind speed, wind direction, and a brief description of the weather."
   ]
  },
  {
   "cell_type": "code",
   "execution_count": 1,
   "id": "f14b4707",
   "metadata": {},
   "outputs": [],
   "source": [
    "import tkinter as tk\n",
    "import requests\n",
    "\n",
    "api_key = \"791efb8c77b5db48e54bd48fa66992bb\"\n",
    "\n",
    "def get_weather():\n",
    "    city = city_entry.get()\n",
    "    url = f\"http://api.openweathermap.org/data/2.5/weather?q={city}&appid={api_key}&units=metric\"\n",
    "    response = requests.get(url)\n",
    "    if response.status_code == 200:\n",
    "        data = response.json()\n",
    "        temperature = data[\"main\"][\"temp\"]\n",
    "        feels_like = data[\"main\"][\"feels_like\"]\n",
    "        description = data[\"weather\"][0][\"description\"]\n",
    "        humidity = data[\"main\"][\"humidity\"]\n",
    "        wind_speed = data[\"wind\"][\"speed\"]\n",
    "        wind_dir = data[\"wind\"][\"deg\"]\n",
    "        \n",
    "        result_label.config(text=f\"Current weather in {city}: {temperature}°C, \\nfeels like {feels_like}°C, \\nHumidity: {humidity}°C, \\nWind speed: {wind_speed} m/s, \\nWind direction: {wind_dir}°, {description.capitalize()}\")        \n",
    "    else:\n",
    "        result_label.config(text=\"Error fetching weather information.\")\n",
    "\n",
    "root = tk.Tk()\n",
    "root.title(\"Weather App\")\n",
    "\n",
    "root.geometry(\"500x400\")\n",
    "\n",
    "city_label = tk.Label(root, text=\"Enter city name : \")\n",
    "city_label.pack()\n",
    "\n",
    "city_entry = tk.Entry(root)\n",
    "city_entry.pack()\n",
    "\n",
    "get_weather_button = tk.Button(root, text=\"Get Weather\", command=get_weather)\n",
    "get_weather_button.pack()\n",
    "\n",
    "result_label = tk.Label(root, text=\"\")\n",
    "result_label.pack()\n",
    "\n",
    "root.mainloop()"
   ]
  }
 ],
 "metadata": {
  "kernelspec": {
   "display_name": "Python 3 (ipykernel)",
   "language": "python",
   "name": "python3"
  },
  "language_info": {
   "codemirror_mode": {
    "name": "ipython",
    "version": 3
   },
   "file_extension": ".py",
   "mimetype": "text/x-python",
   "name": "python",
   "nbconvert_exporter": "python",
   "pygments_lexer": "ipython3",
   "version": "3.9.13"
  }
 },
 "nbformat": 4,
 "nbformat_minor": 5
}
