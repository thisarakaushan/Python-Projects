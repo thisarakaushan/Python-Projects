{
 "cells": [
  {
   "cell_type": "markdown",
   "id": "f2568522",
   "metadata": {},
   "source": [
    "# Weather Application\n",
    "___\n",
    "\n"
   ]
  },
  {
   "cell_type": "code",
   "execution_count": 1,
   "id": "04b304fe",
   "metadata": {},
   "outputs": [
    {
     "name": "stdout",
     "output_type": "stream",
     "text": [
      "Enter a location: delhi\n",
      "Current weather for delhi\n",
      "Weather: haze\n",
      "Temperature: 31.05 °C\n",
      "Feels like: 29.78 °C\n",
      "Humidity: 30 %\n",
      "Wind speed: 2.06 m/s\n",
      "Wind direction: 30 °\n"
     ]
    }
   ],
   "source": [
    "\"\"\" Weather App: A script that fetches the current weather information for a\n",
    "specified location, using a weather API.\"\"\"\n",
    "\n",
    "import requests\n",
    "\n",
    "api_key = \"791efb8c77b5db48e54bd48fa66992bb\"\n",
    "url = \"https://api.openweathermap.org/data/2.5/weather\"\n",
    "\n",
    "location = input(\"Enter a location: \")\n",
    "\n",
    "params = {\"q\": location, \"appid\": api_key, \"units\": \"metric\"}\n",
    "response = requests.get(url, params=params)\n",
    "\n",
    "if response.status_code == 200:\n",
    "\n",
    "    data = response.json()\n",
    "    weather = data[\"weather\"][0][\"description\"]\n",
    "    temp = data[\"main\"][\"temp\"]\n",
    "    feels_like = data[\"main\"][\"feels_like\"]\n",
    "    humidity = data[\"main\"][\"humidity\"]\n",
    "    wind_speed = data[\"wind\"][\"speed\"]\n",
    "    wind_dir = data[\"wind\"][\"deg\"]\n",
    "\n",
    "    print(\"Current weather for\", location)\n",
    "    print(\"Weather:\", weather)\n",
    "    print(\"Temperature:\", temp, \"°C\")\n",
    "    print(\"Feels like:\", feels_like, \"°C\")\n",
    "    print(\"Humidity:\", humidity, \"%\")\n",
    "    print(\"Wind speed:\", wind_speed, \"m/s\")\n",
    "    print(\"Wind direction:\", wind_dir, \"°\")\n",
    "else:\n",
    "    print(\"Error:\", response.status_code)\n",
    "\n"
   ]
  }
 ],
 "metadata": {
  "kernelspec": {
   "display_name": "Python 3 (ipykernel)",
   "language": "python",
   "name": "python3"
  },
  "language_info": {
   "codemirror_mode": {
    "name": "ipython",
    "version": 3
   },
   "file_extension": ".py",
   "mimetype": "text/x-python",
   "name": "python",
   "nbconvert_exporter": "python",
   "pygments_lexer": "ipython3",
   "version": "3.9.13"
  }
 },
 "nbformat": 4,
 "nbformat_minor": 5
}
