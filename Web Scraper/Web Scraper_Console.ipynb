{
 "cells": [
  {
   "cell_type": "markdown",
   "id": "10923be4",
   "metadata": {},
   "source": [
    "# Web Content Aggregator(web scrapper)\n",
    "____"
   ]
  },
  {
   "cell_type": "code",
   "execution_count": 1,
   "id": "0d1ae9d3",
   "metadata": {},
   "outputs": [
    {
     "name": "stdout",
     "output_type": "stream",
     "text": [
      "{'title': 'Contact Us - KIIT', 'paragraphs': ['Write to:\\nKalinga Institute of Industrial Technology (KIIT)\\nDeemed to be University\\nBhubaneswar, Odisha, India\\nPin: 751024', 'Email:\\n[email\\xa0protected]\\n[email\\xa0protected]', 'kiit.ac.in', '', ' Name (required)\\n \\n', ' Your Email (required)\\n \\n', ' Your Mobile Number (required)\\n \\n', ' Department (required)\\n—Please choose an option—AdmissionAcademicsCompliancePublic RelationInternational RelationHostelSportsTransportKSACSocial MediaOther \\n', ' Subject (required)\\n \\n', ' Your Message/Query (required)\\n \\nLimit: 600 \\n', '\\n', 'Δ', 'Kalinga Institute of Industrial Technology (KiiT)\\nPatia, Bhubaneswar, Odisha, India 751024', 'Phone:\\nHelpline\\n0674 2725113\\n0674 2741389', 'Admission\\n8080 735 735', 'Email: [email\\xa0protected]', 'Pay Fee Online']}\n"
     ]
    }
   ],
   "source": [
    "\"\"\" Web Scraper: A script that extracts data from a specified website by parsing its\n",
    "HTML or using an API, and returns the data in a structured format.\"\"\"\n",
    "\n",
    "import requests\n",
    "from bs4 import BeautifulSoup\n",
    "\n",
    "url = 'https://kiit.ac.in/contact/'\n",
    "\n",
    "response = requests.get(url)\n",
    "\n",
    "# parse the HTML content of the website using BeautifulSoup\n",
    "soup = BeautifulSoup(response.content, 'html.parser')\n",
    "\n",
    "title = soup.find('title').get_text()\n",
    "paragraphs = soup.find_all('p')\n",
    " \n",
    "data = {\n",
    "    'title': title,\n",
    "    'paragraphs': []\n",
    "}\n",
    "\n",
    "for paragraph in paragraphs:\n",
    "    data['paragraphs'].append(paragraph.get_text())\n",
    "\n",
    "print(data)"
   ]
  }
 ],
 "metadata": {
  "kernelspec": {
   "display_name": "Python 3 (ipykernel)",
   "language": "python",
   "name": "python3"
  },
  "language_info": {
   "codemirror_mode": {
    "name": "ipython",
    "version": 3
   },
   "file_extension": ".py",
   "mimetype": "text/x-python",
   "name": "python",
   "nbconvert_exporter": "python",
   "pygments_lexer": "ipython3",
   "version": "3.9.13"
  }
 },
 "nbformat": 4,
 "nbformat_minor": 5
}
