{
 "cells": [
  {
   "cell_type": "markdown",
   "id": "348d5e22",
   "metadata": {},
   "source": [
    "# Magic 8-Ball\n",
    "___\n",
    "\n",
    "Create a Magic 8-Ball app using the Tkinter library in Python. The Magic 8-Ball is a popular fortune-telling toy that provides random answers to yes-or-no questions. In this project, you'll build a graphical interface where users can ask a question and receive a random answer from the Magic 8-Ball."
   ]
  },
  {
   "cell_type": "code",
   "execution_count": 3,
   "id": "a7f25978",
   "metadata": {},
   "outputs": [
    {
     "name": "stdout",
     "output_type": "stream",
     "text": [
      "Ask a yes/no question: no\n",
      "It is certain.\n"
     ]
    }
   ],
   "source": [
    "# Magic 8-Ball: A script that simulates the Magic 8-Ball toy, giving random\n",
    "# answers to yes/no questions.\n",
    "\n",
    "import random\n",
    "\n",
    "# Define the function to simulate the Magic 8-Ball:\n",
    "\n",
    "def magic_8_ball():\n",
    "    # Define a list of possible answers\n",
    "    answers = [\"It is certain.\", \"It is decidedly so.\", \"Without a doubt.\", \"Yes - definitely.\", \n",
    "               \"You may rely on it.\", \"As I see it, yes.\", \"Most likely.\", \"Outlook good.\", \n",
    "               \"Yes.\", \"Signs point to yes.\", \"Reply hazy, try again.\", \"Ask again later.\", \n",
    "               \"Better not tell you now.\", \"Cannot predict now.\", \"Concentrate and ask again.\", \n",
    "               \"Don't count on it.\", \"Outlook not so good.\", \"My sources say no.\", \n",
    "               \"Very doubtful.\"]\n",
    "    \n",
    "    # Get the user's question\n",
    "    question = input(\"Ask a yes/no question: \")\n",
    "    \n",
    "    # Give a random answer\n",
    "    answer = random.choice(answers)\n",
    "    print(answer)\n",
    "\n",
    "magic_8_ball()"
   ]
  },
  {
   "cell_type": "code",
   "execution_count": null,
   "id": "9bd90c3e",
   "metadata": {},
   "outputs": [],
   "source": []
  },
  {
   "cell_type": "markdown",
   "id": "a17cefbb",
   "metadata": {},
   "source": [
    "### GUI Based"
   ]
  },
  {
   "cell_type": "code",
   "execution_count": 9,
   "id": "d42ef0ca",
   "metadata": {},
   "outputs": [],
   "source": [
    "import tkinter as tk\n",
    "import random\n",
    "\n",
    "def generate_answer():\n",
    "    # List of possible answers\n",
    "    answers = [\"It is certain\", \"It is decidedly so\", \"Without a doubt\", \"Yes, definitely\", \n",
    "               \"You may rely on it\", \"As I see it, yes\", \"Most likely\", \"Outlook good\", \n",
    "               \"Yes\", \"Signs point to yes\", \"Reply hazy, try again\", \"Ask again later\", \n",
    "               \"Better not tell you now\", \"Cannot predict now\", \"Concentrate and ask again\", \n",
    "               \"Don't count on it\", \"Outlook not so good\", \"My sources say no\", \"Very doubtful\"]\n",
    "    \n",
    "    # Generate a random answer\n",
    "    return random.choice(answers)\n",
    "\n",
    "# Define the function to update the answer label:\n",
    "\n",
    "def update_answer_label():\n",
    "    # Generate a random answer\n",
    "    answer = generate_answer()\n",
    "    \n",
    "    # Update the answer label\n",
    "    answer_label.config(text=answer)\n",
    "\n",
    "# Create the GUI window and widgets:\n",
    "\n",
    "# Create the window\n",
    "window = tk.Tk()\n",
    "window.title(\"Magic 8-Ball\")\n",
    "\n",
    "# Create the answer label\n",
    "answer_label = tk.Label(window, text=\"\", font=(\"Arial\", 24))\n",
    "answer_label.pack(pady=40)\n",
    "\n",
    "# Create the ask button\n",
    "ask_button = tk.Button(window, text=\"Ask\", font=(\"Arial\", 16), command=update_answer_label)\n",
    "ask_button.pack(pady=10)\n",
    "\n",
    "# Run the window\n",
    "window.mainloop()"
   ]
  },
  {
   "cell_type": "code",
   "execution_count": null,
   "id": "17b378dc",
   "metadata": {},
   "outputs": [],
   "source": []
  }
 ],
 "metadata": {
  "kernelspec": {
   "display_name": "Python 3 (ipykernel)",
   "language": "python",
   "name": "python3"
  },
  "language_info": {
   "codemirror_mode": {
    "name": "ipython",
    "version": 3
   },
   "file_extension": ".py",
   "mimetype": "text/x-python",
   "name": "python",
   "nbconvert_exporter": "python",
   "pygments_lexer": "ipython3",
   "version": "3.9.13"
  }
 },
 "nbformat": 4,
 "nbformat_minor": 5
}
